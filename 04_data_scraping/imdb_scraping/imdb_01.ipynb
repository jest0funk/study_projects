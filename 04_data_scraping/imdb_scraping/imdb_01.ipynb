{
 "cells": [
  {
   "cell_type": "code",
   "execution_count": 1,
   "metadata": {},
   "outputs": [],
   "source": [
    "import requests\n",
    "import urllib\n",
    "from bs4 import BeautifulSoup"
   ]
  },
  {
   "cell_type": "markdown",
   "metadata": {},
   "source": [
    "## helper functions"
   ]
  },
  {
   "cell_type": "code",
   "execution_count": 2,
   "metadata": {},
   "outputs": [],
   "source": [
    "def get_headers():\n",
    "    headers = {'Accept-Language': 'en-US', \n",
    "               'User-Agent': 'Mozilla/5.0 (Windows NT 10.0; Win64; x64) \\\n",
    "               AppleWebKit/537.36 (KHTML, like Gecko) \\\n",
    "               Chrome/114.0.0.0 Safari/537.36 Edg/114.0.1823.79'}\n",
    "    return headers"
   ]
  },
  {
   "cell_type": "code",
   "execution_count": 3,
   "metadata": {},
   "outputs": [],
   "source": [
    "def get_page_from_imdb(url):\n",
    "    response = requests.get(url, headers=get_headers())\n",
    "    assert response.status_code == 200\n",
    "    return response.text"
   ]
  },
  {
   "cell_type": "code",
   "execution_count": 4,
   "metadata": {},
   "outputs": [],
   "source": [
    "def get_page_soup(url, concat_string='', use_cache=False, force_update=False):\n",
    "    url += concat_string\n",
    "    if use_cache:\n",
    "        global cache\n",
    "        if url not in cache or force_update:\n",
    "            cache[url] = get_page_from_imdb(url)\n",
    "        page_soup = BeautifulSoup(cache[url])\n",
    "    else:\n",
    "        page_soup = BeautifulSoup(get_page_from_imdb(url))\n",
    "    return page_soup"
   ]
  },
  {
   "cell_type": "code",
   "execution_count": 5,
   "metadata": {},
   "outputs": [],
   "source": [
    "def get_canonical_url(page_soup):\n",
    "    canonical_url = page_soup.find('link', attrs={'rel': 'canonical'}).attrs['href']\n",
    "    return canonical_url"
   ]
  },
  {
   "cell_type": "markdown",
   "metadata": {},
   "source": [
    "## get_actors_by_movie_soup()"
   ]
  },
  {
   "cell_type": "code",
   "execution_count": 6,
   "metadata": {},
   "outputs": [],
   "source": [
    "def get_actors_by_movie_soup(cast_page_soup, num_of_actors_limit=None):\n",
    "    cast_table_rows = cast_page_soup.find_all('tr', attrs={'class': ['odd', 'even']})\n",
    "    canonical_url = get_canonical_url(cast_page_soup)\n",
    "    movie_actors = [(row.contents[3].text.strip(), \n",
    "                     urllib.parse.urljoin(canonical_url, row.contents[3].contents[1]['href'].split('?')[0]))\n",
    "                     for row in cast_table_rows]\n",
    "    return movie_actors[:num_of_actors_limit]"
   ]
  },
  {
   "cell_type": "code",
   "execution_count": 7,
   "metadata": {},
   "outputs": [],
   "source": [
    "# movie \"Black Widow\"\n",
    "url = 'https://www.imdb.com/title/tt3480822/fullcredits/'\n",
    "cast_page_soup = get_page_soup(url, concat_string='fullcredits/')"
   ]
  },
  {
   "cell_type": "code",
   "execution_count": 8,
   "metadata": {},
   "outputs": [
    {
     "data": {
      "text/plain": [
       "(107,\n",
       " [('Iain Tingley', 'https://www.imdb.com/name/nm9974888/'),\n",
       "  ('Andrew Tull', 'https://www.imdb.com/name/nm12241326/'),\n",
       "  ('David Turner', 'https://www.imdb.com/name/nm10491024/'),\n",
       "  ('Kalina Vanska', 'https://www.imdb.com/name/nm2338656/'),\n",
       "  ('Chad J. Wagner', 'https://www.imdb.com/name/nm8242662/'),\n",
       "  ('Ian Wilson', 'https://www.imdb.com/name/nm11227852/'),\n",
       "  ('Daniel Joseph Woolf', 'https://www.imdb.com/name/nm9281009/')])"
      ]
     },
     "execution_count": 8,
     "metadata": {},
     "output_type": "execute_result"
    }
   ],
   "source": [
    "test_nolimit = get_actors_by_movie_soup(cast_page_soup)\n",
    "len(test_nolimit), test_nolimit[100:]"
   ]
  },
  {
   "cell_type": "code",
   "execution_count": 9,
   "metadata": {},
   "outputs": [
    {
     "data": {
      "text/plain": [
       "(107,\n",
       " [('Iain Tingley', 'https://www.imdb.com/name/nm9974888/'),\n",
       "  ('Andrew Tull', 'https://www.imdb.com/name/nm12241326/'),\n",
       "  ('David Turner', 'https://www.imdb.com/name/nm10491024/'),\n",
       "  ('Kalina Vanska', 'https://www.imdb.com/name/nm2338656/'),\n",
       "  ('Chad J. Wagner', 'https://www.imdb.com/name/nm8242662/'),\n",
       "  ('Ian Wilson', 'https://www.imdb.com/name/nm11227852/'),\n",
       "  ('Daniel Joseph Woolf', 'https://www.imdb.com/name/nm9281009/')])"
      ]
     },
     "execution_count": 9,
     "metadata": {},
     "output_type": "execute_result"
    }
   ],
   "source": [
    "test_150 = get_actors_by_movie_soup(cast_page_soup, num_of_actors_limit=150)\n",
    "len(test_150), test_150[100:]"
   ]
  },
  {
   "cell_type": "code",
   "execution_count": 10,
   "metadata": {},
   "outputs": [
    {
     "data": {
      "text/plain": [
       "(5,\n",
       " [('Scarlett Johansson', 'https://www.imdb.com/name/nm0424060/'),\n",
       "  ('Florence Pugh', 'https://www.imdb.com/name/nm6073955/'),\n",
       "  ('Rachel Weisz', 'https://www.imdb.com/name/nm0001838/'),\n",
       "  ('David Harbour', 'https://www.imdb.com/name/nm1092086/'),\n",
       "  ('Ray Winstone', 'https://www.imdb.com/name/nm0935653/')])"
      ]
     },
     "execution_count": 10,
     "metadata": {},
     "output_type": "execute_result"
    }
   ],
   "source": [
    "test_005 = get_actors_by_movie_soup(cast_page_soup, num_of_actors_limit=5)\n",
    "len(test_005), test_005"
   ]
  },
  {
   "cell_type": "markdown",
   "metadata": {},
   "source": [
    "## get_movies_by_actor_soup()"
   ]
  },
  {
   "cell_type": "code",
   "execution_count": 11,
   "metadata": {},
   "outputs": [],
   "source": [
    "def get_movies_by_actor_soup(actor_page_soup, num_of_movies_limit=None, include_voice=True):\n",
    "    actor_section = actor_page_soup.find('div', attrs={'id': ['filmo-head-actor', 'filmo-head-actress']})\n",
    "    try:\n",
    "      movie_section = actor_section.find_next_sibling('div', attrs={'class': 'filmo-category-section'})\n",
    "      movie_records = movie_section.find_all('div', attrs={'class': ['filmo-row odd', 'filmo-row even']})\n",
    "      canonical_url = get_canonical_url(actor_page_soup)\n",
    "      actor_movies = [(record.contents[3].text, \n",
    "                        urllib.parse.urljoin(\n",
    "                           canonical_url, record.contents[3].contents[0]['href'].split('?')[0])) \n",
    "                        for record in movie_records \n",
    "                        if record.contents[4].text.strip() == ''\n",
    "                        and (eval('\"(voice)\" not in record.contents[6]') if not include_voice else True)]\n",
    "    except:\n",
    "       return [(None, None)]\n",
    "    return actor_movies[:num_of_movies_limit]"
   ]
  },
  {
   "cell_type": "code",
   "execution_count": 12,
   "metadata": {},
   "outputs": [],
   "source": [
    "# actor Dwayne Johnson\n",
    "url = 'https://www.imdb.com/name/nm0425005/'\n",
    "actor_page_soup = get_page_soup(url, concat_string='fullcredits/')"
   ]
  },
  {
   "cell_type": "code",
   "execution_count": 13,
   "metadata": {},
   "outputs": [
    {
     "data": {
      "text/plain": [
       "(46,\n",
       " [('Walking Tall', 'https://www.imdb.com/title/tt0351977/'),\n",
       "  ('The Rundown', 'https://www.imdb.com/title/tt0327850/'),\n",
       "  ('The Scorpion King', 'https://www.imdb.com/title/tt0277296/'),\n",
       "  ('Longshot', 'https://www.imdb.com/title/tt0201694/'),\n",
       "  ('The Mummy Returns', 'https://www.imdb.com/title/tt0209163/')])"
      ]
     },
     "execution_count": 13,
     "metadata": {},
     "output_type": "execute_result"
    }
   ],
   "source": [
    "test_nolimit = get_movies_by_actor_soup(actor_page_soup)\n",
    "len(test_nolimit), test_nolimit[-5:]"
   ]
  },
  {
   "cell_type": "code",
   "execution_count": 14,
   "metadata": {},
   "outputs": [
    {
     "data": {
      "text/plain": [
       "(46,\n",
       " [('Walking Tall', 'https://www.imdb.com/title/tt0351977/'),\n",
       "  ('The Rundown', 'https://www.imdb.com/title/tt0327850/'),\n",
       "  ('The Scorpion King', 'https://www.imdb.com/title/tt0277296/'),\n",
       "  ('Longshot', 'https://www.imdb.com/title/tt0201694/'),\n",
       "  ('The Mummy Returns', 'https://www.imdb.com/title/tt0209163/')])"
      ]
     },
     "execution_count": 14,
     "metadata": {},
     "output_type": "execute_result"
    }
   ],
   "source": [
    "test_100 = get_movies_by_actor_soup(actor_page_soup, num_of_movies_limit=100)\n",
    "len(test_100), test_100[-5:]"
   ]
  },
  {
   "cell_type": "code",
   "execution_count": 15,
   "metadata": {},
   "outputs": [
    {
     "data": {
      "text/plain": [
       "(5,\n",
       " [('Fast X', 'https://www.imdb.com/title/tt5433140/'),\n",
       "  ('Black Adam', 'https://www.imdb.com/title/tt6443346/'),\n",
       "  ('DC League of Super-Pets', 'https://www.imdb.com/title/tt8912936/'),\n",
       "  ('Red Notice', 'https://www.imdb.com/title/tt7991608/'),\n",
       "  ('Free Guy', 'https://www.imdb.com/title/tt6264654/')])"
      ]
     },
     "execution_count": 15,
     "metadata": {},
     "output_type": "execute_result"
    }
   ],
   "source": [
    "test_005 = get_movies_by_actor_soup(actor_page_soup, num_of_movies_limit=5)\n",
    "len(test_005), test_005"
   ]
  },
  {
   "cell_type": "code",
   "execution_count": 16,
   "metadata": {},
   "outputs": [],
   "source": [
    "# actress Scarlett Johansson\n",
    "url = 'https://www.imdb.com/name/nm0424060/'\n",
    "actor_page_soup = get_page_soup(url, concat_string='fullcredits/')"
   ]
  },
  {
   "cell_type": "code",
   "execution_count": 17,
   "metadata": {},
   "outputs": [
    {
     "data": {
      "text/plain": [
       "(55,\n",
       " [('Fall', 'https://www.imdb.com/title/tt0119098/'),\n",
       "  ('If Lucy Fell', 'https://www.imdb.com/title/tt0116606/'),\n",
       "  ('Manny & Lo', 'https://www.imdb.com/title/tt0116985/'),\n",
       "  ('Just Cause', 'https://www.imdb.com/title/tt0113501/'),\n",
       "  ('North', 'https://www.imdb.com/title/tt0110687/')])"
      ]
     },
     "execution_count": 17,
     "metadata": {},
     "output_type": "execute_result"
    }
   ],
   "source": [
    "test_nolimit = get_movies_by_actor_soup(actor_page_soup)\n",
    "len(test_nolimit), test_nolimit[-5:]"
   ]
  },
  {
   "cell_type": "code",
   "execution_count": 18,
   "metadata": {},
   "outputs": [
    {
     "data": {
      "text/plain": [
       "(55,\n",
       " [('Fall', 'https://www.imdb.com/title/tt0119098/'),\n",
       "  ('If Lucy Fell', 'https://www.imdb.com/title/tt0116606/'),\n",
       "  ('Manny & Lo', 'https://www.imdb.com/title/tt0116985/'),\n",
       "  ('Just Cause', 'https://www.imdb.com/title/tt0113501/'),\n",
       "  ('North', 'https://www.imdb.com/title/tt0110687/')])"
      ]
     },
     "execution_count": 18,
     "metadata": {},
     "output_type": "execute_result"
    }
   ],
   "source": [
    "test_100 = get_movies_by_actor_soup(actor_page_soup, num_of_movies_limit=100)\n",
    "len(test_100), test_100[-5:]"
   ]
  },
  {
   "cell_type": "code",
   "execution_count": 19,
   "metadata": {},
   "outputs": [
    {
     "data": {
      "text/plain": [
       "(5,\n",
       " [('Asteroid City', 'https://www.imdb.com/title/tt14230388/'),\n",
       "  ('Sing 2', 'https://www.imdb.com/title/tt6467266/'),\n",
       "  ('Black Widow', 'https://www.imdb.com/title/tt3480822/'),\n",
       "  ('Jojo Rabbit', 'https://www.imdb.com/title/tt2584384/'),\n",
       "  ('Marriage Story', 'https://www.imdb.com/title/tt7653254/')])"
      ]
     },
     "execution_count": 19,
     "metadata": {},
     "output_type": "execute_result"
    }
   ],
   "source": [
    "test_005 = get_movies_by_actor_soup(actor_page_soup, num_of_movies_limit=5)\n",
    "len(test_005), test_005"
   ]
  },
  {
   "cell_type": "code",
   "execution_count": null,
   "metadata": {},
   "outputs": [],
   "source": []
  }
 ],
 "metadata": {
  "kernelspec": {
   "display_name": "Python 3",
   "language": "python",
   "name": "python3"
  },
  "language_info": {
   "codemirror_mode": {
    "name": "ipython",
    "version": 3
   },
   "file_extension": ".py",
   "mimetype": "text/x-python",
   "name": "python",
   "nbconvert_exporter": "python",
   "pygments_lexer": "ipython3",
   "version": "3.10.7"
  },
  "orig_nbformat": 4
 },
 "nbformat": 4,
 "nbformat_minor": 2
}
