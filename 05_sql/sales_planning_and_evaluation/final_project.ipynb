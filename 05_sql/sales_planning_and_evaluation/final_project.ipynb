{
 "cells": [
  {
   "cell_type": "markdown",
   "metadata": {},
   "source": [
    "# Final Project"
   ]
  },
  {
   "cell_type": "code",
   "execution_count": 1,
   "metadata": {},
   "outputs": [],
   "source": [
    "import psycopg2"
   ]
  },
  {
   "cell_type": "code",
   "execution_count": 2,
   "metadata": {},
   "outputs": [],
   "source": [
    "database = '_adventureworkslt'\n",
    "host = 'localhost'\n",
    "credentials = [\n",
    "    ('ivan', 'sql'),\n",
    "    ('kirill', 'sql'),\n",
    "    ('sophie', 'sql')\n",
    "]"
   ]
  },
  {
   "cell_type": "code",
   "execution_count": 61,
   "metadata": {},
   "outputs": [],
   "source": [
    "\n",
    "\n",
    "def start_planning(year, quarter, user, pwd, database):\n",
    "    \"\"\" \n",
    "    Task steps\n",
    "    1. Delete plan data from the plan_data table related to the target year and quarter.\n",
    "    2. Delete all records related to the target quarter from the plan_status table.\n",
    "    3. Create the necessary planning status records in the plan_status table for the selected quarter.\n",
    "    4. Generate a version N of planning data in the plan_data table. \n",
    "    5. Copy the data from the version N and insert it further to the plan_data table changing the version to P.\n",
    "    6. Store the name of the user who called the function, in the records of the plan_status table.\n",
    "    \"\"\"\n",
    "\n",
    "    # Supportive queries\n",
    "    qry_plan_data_cleanup = \"\"\"\n",
    "        delete from plan_data \n",
    "        where quarterid = %s;\n",
    "        \"\"\"\n",
    "\n",
    "    qry_plan_status_cleanup = \"\"\"\n",
    "        delete from plan_status \n",
    "        where quarterid = %s;\n",
    "        \"\"\"\n",
    "    \n",
    "    qry_plan_status_fillin = \"\"\"\n",
    "        insert into plan_status (quarterid, status, country)\n",
    "        select %s, 'R', countrycode\n",
    "        from country2 c;\n",
    "        \"\"\"\n",
    "\n",
    "    qry_plan_data_fillin_N = \"\"\"\n",
    "        insert into plan_data\n",
    "        with \n",
    "        quarterly_sales as (\n",
    "            select distinct c.countrycode,\n",
    "                cs.categoryid as pcid,\n",
    "                cs.qr,\n",
    "                sum(cs.salesamt) over (partition by c.countrycode, cs.categoryid, cs.qr) as salesamt\n",
    "            from company_sales as cs\n",
    "                join company as c on c.id = cs.cid \n",
    "            where cs.ccls in ('A', 'B') and cs.year in (%s - 1, %s - 2) and cs.quarter_yr = %s\n",
    "        ),\n",
    "        average_sales as (\n",
    "            select distinct countrycode, \n",
    "                pcid,\n",
    "                avg(salesamt) over (partition by countrycode, pcid) as salesamt\n",
    "            from quarterly_sales\n",
    "        ),\n",
    "        plan_template as (\n",
    "            select distinct c2.countrycode,\n",
    "                p2.pcid\n",
    "            from product2 as p2\n",
    "                cross join country2 as c2\n",
    "        )\n",
    "        select 'N' as versionid, \n",
    "            pt.countrycode as country,\n",
    "            %s as quarterid,\n",
    "            pt.pcid,\n",
    "            coalesce (avs.salesamt, 0) as salesamt\n",
    "        from plan_template as pt\n",
    "        left join average_sales as avs using(countrycode, pcid);\n",
    "        \"\"\"\n",
    "    \n",
    "    qry_plan_data_fillin_P = \"\"\"\n",
    "        insert into plan_data\n",
    "        select 'P' as versionid,\n",
    "            country,\n",
    "            quarterid,\n",
    "            pcid,\n",
    "            salesamt\n",
    "        from plan_data\n",
    "        where versionid = 'N' and quarterid = %s;\n",
    "        \"\"\"\n",
    "\n",
    "    qry_plan_status_update_author = \"\"\"\n",
    "        update plan_status\n",
    "        set author = current_user\n",
    "        where quarterid = %s;\n",
    "        \"\"\"\n",
    "\n",
    "    # Setting the connection\n",
    "    con = psycopg2.connect(database=database, user=user, password=pwd, host='localhost')\n",
    "    cur = con.cursor()\n",
    "\n",
    "    # Executing queries\n",
    "    qr = f'{year}.{quarter}'\n",
    "    try:\n",
    "        cur.execute(qry_plan_data_cleanup, (qr,))\n",
    "        cur.execute(qry_plan_status_cleanup, (qr,))\n",
    "        cur.execute(qry_plan_status_fillin, (qr,))\n",
    "        cur.execute(qry_plan_data_fillin_N, (year, year, quarter, qr))\n",
    "        cur.execute(qry_plan_data_fillin_P, (qr,))\n",
    "        cur.execute(qry_plan_status_update_author, (qr,))\n",
    "        con.commit()\n",
    "    except Exception as err:\n",
    "        con.rollback()\n",
    "        print(err)\n",
    "        \n",
    "    con.close()"
   ]
  },
  {
   "cell_type": "code",
   "execution_count": 63,
   "metadata": {},
   "outputs": [],
   "source": [
    "def set_lock(year, quarter, user, pwd, database):\n",
    "\n",
    "    # Supportive queries\n",
    "    qry_plan_status_lock = \"\"\"\n",
    "        update plan_status as ps\n",
    "        set status = %s,\n",
    "            modifieddatetime = current_timestamp,\n",
    "            author = current_user\n",
    "        from country_managers as cm\n",
    "        where ps.country = cm.country\n",
    "        and status = %s\n",
    "        and ps.quarterid = %s\n",
    "        and cm.username = current_user;\n",
    "        \"\"\"\n",
    "    \n",
    "    # Setting the connection\n",
    "    con = psycopg2.connect(database=database, user=user, password=pwd, host='localhost')\n",
    "    cur = con.cursor()\n",
    "\n",
    "    # Executing queries\n",
    "    qr = f'{year}.{quarter}'\n",
    "    try:\n",
    "        cur.execute(qry_plan_status_lock, ('L', 'R', qr))\n",
    "        con.commit()\n",
    "    except Exception as err:\n",
    "        con.rollback()\n",
    "        print(err)\n",
    "        \n",
    "    con.close() "
   ]
  },
  {
   "cell_type": "code",
   "execution_count": 64,
   "metadata": {},
   "outputs": [],
   "source": [
    "def remove_lock(year, quarter, user, pwd, database):\n",
    "\n",
    "    # Supportive queries\n",
    "    qry_plan_status_unlock = \"\"\"\n",
    "        update plan_status as ps\n",
    "        set status = %s,\n",
    "            modifieddatetime = current_timestamp,\n",
    "            author = current_user\n",
    "        from country_managers as cm\n",
    "        where ps.country = cm.country\n",
    "        and status = %s\n",
    "        and ps.quarterid = %s\n",
    "        and cm.username = current_user\n",
    "        and ps.author = current_user;\n",
    "        \"\"\"\n",
    "\n",
    "    # Setting the connection\n",
    "    con = psycopg2.connect(database=database, user=user, password=pwd, host='localhost')\n",
    "    cur = con.cursor()\n",
    "\n",
    "    # Executing queries\n",
    "    qr = f'{year}.{quarter}'\n",
    "    try:\n",
    "        cur.execute(qry_plan_status_unlock, ('R', 'L', qr))\n",
    "        con.commit()\n",
    "    except Exception as err:\n",
    "        con.rollback()\n",
    "        print(err)\n",
    "        \n",
    "    con.close()  "
   ]
  },
  {
   "cell_type": "code",
   "execution_count": 69,
   "metadata": {},
   "outputs": [],
   "source": [
    "def accept_plan(year, quarter, user, pwd, database):\n",
    "    \"\"\"\n",
    "    Processing steps\n",
    "    1. Clear the A version of plan data for specific quarter and countries accessible to the current user\n",
    "    2. Read data available to the current user from the version P and save its copy as the version A\n",
    "    3. Change the status of the processed from 'R' to 'A'\n",
    "    4. When updating the status, also save a timestamp in the modifiedtimestamp column.\n",
    "    \"\"\"\n",
    "\n",
    "    # Supportive queries\n",
    "    qry_plan_data_cleanup_A = \"\"\"\n",
    "        delete \n",
    "        from plan_data as pd \n",
    "            using country_managers as cm\n",
    "        where pd.country = cm.country\n",
    "            and pd.quarterid = %s\n",
    "            and pd.versionid = 'A'\n",
    "            and cm.username = current_user;\n",
    "        \"\"\"\n",
    "    \n",
    "    qry_plan_data_fillin_A = \"\"\"\n",
    "        insert into plan_data   \n",
    "        select 'A' as versionid, \n",
    "            country, \n",
    "            quarterid, \n",
    "            pcid, \n",
    "            salesamt \n",
    "        from plan_data as pd\n",
    "        join plan_status as ps using (quarterid, country)\n",
    "        join country_managers as cm using (country)\n",
    "        where pd.quarterid = %s and pd.versionid = 'P' \n",
    "        and status = 'R' and cm.username = current_user;\n",
    "        \"\"\"\n",
    "\n",
    "    qry_plan_status_update_A = \"\"\"\n",
    "        update plan_status as ps\n",
    "        set status = %s,\n",
    "            modifieddatetime = current_timestamp,\n",
    "            author = current_user\n",
    "        from country_managers as cm\n",
    "        where ps.country = cm.country\n",
    "        and status = %s\n",
    "        and ps.quarterid = %s\n",
    "        and cm.username = current_user\n",
    "        and ps.author = current_user;\n",
    "        \"\"\"\n",
    "\n",
    "    # Setting the connection\n",
    "    con = psycopg2.connect(database=database, user=user, password=pwd, host='localhost')\n",
    "    cur = con.cursor()\n",
    "\n",
    "    # Executing queries\n",
    "    qr = f'{year}.{quarter}'\n",
    "    try:\n",
    "        cur.execute(qry_plan_data_cleanup_A, (qr,))\n",
    "        cur.execute(qry_plan_data_fillin_A, (qr,))\n",
    "        cur.execute(qry_plan_status_update_A, ('A', 'R', qr))\n",
    "        con.commit()\n",
    "    except Exception as err:\n",
    "        con.rollback()\n",
    "        print(err)\n",
    "        \n",
    "    con.close()"
   ]
  },
  {
   "cell_type": "code",
   "execution_count": null,
   "metadata": {},
   "outputs": [],
   "source": [
    "start_planning(2014, 1, 'ivan', 'sql', '_adventureworkslt')"
   ]
  },
  {
   "cell_type": "code",
   "execution_count": null,
   "metadata": {},
   "outputs": [],
   "source": [
    "set_lock(2014, 1, 'kirill', 'sql', '_adventureworkslt')"
   ]
  },
  {
   "cell_type": "code",
   "execution_count": null,
   "metadata": {},
   "outputs": [],
   "source": [
    "set_lock(2014, 1, 'sophie', 'sql', '_adventureworkslt')"
   ]
  },
  {
   "cell_type": "code",
   "execution_count": null,
   "metadata": {},
   "outputs": [],
   "source": [
    "remove_lock(2014, 1, 'kirill', 'sql', '_adventureworkslt')"
   ]
  },
  {
   "cell_type": "code",
   "execution_count": null,
   "metadata": {},
   "outputs": [],
   "source": [
    "remove_lock(2014, 1, 'sophie', 'sql', '_adventureworkslt')"
   ]
  },
  {
   "cell_type": "code",
   "execution_count": 80,
   "metadata": {},
   "outputs": [],
   "source": [
    "accept_plan(2014, 1, 'kirill', 'sql', '_adventureworkslt')"
   ]
  },
  {
   "cell_type": "code",
   "execution_count": 81,
   "metadata": {},
   "outputs": [],
   "source": [
    "accept_plan(2014, 1, 'sophie', 'sql', '_adventureworkslt')"
   ]
  },
  {
   "cell_type": "code",
   "execution_count": 16,
   "metadata": {},
   "outputs": [
    {
     "data": {
      "text/plain": [
       "[('ivan', 'sql'), ('kirill', 'sql'), ('sophie', 'sql')]"
      ]
     },
     "execution_count": 16,
     "metadata": {},
     "output_type": "execute_result"
    }
   ],
   "source": [
    "credentials"
   ]
  },
  {
   "cell_type": "code",
   "execution_count": 37,
   "metadata": {},
   "outputs": [],
   "source": [
    "year = 2014\n",
    "quarter = 1\n",
    "\n",
    "for idx in range(1, len(credentials)):\n",
    "    user, pwd = credentials[idx][0], credentials[idx][1]\n",
    "    set_lock(year=year, quarter=quarter, user=user, pwd=pwd)"
   ]
  },
  {
   "cell_type": "code",
   "execution_count": 39,
   "metadata": {},
   "outputs": [],
   "source": [
    "year = 2014\n",
    "quarter = 1\n",
    "\n",
    "for idx in range(1, len(credentials)):\n",
    "    user, pwd = credentials[idx][0], credentials[idx][1]\n",
    "    remove_lock(year=year, quarter=quarter, user=user, pwd=pwd)"
   ]
  },
  {
   "cell_type": "code",
   "execution_count": 41,
   "metadata": {},
   "outputs": [],
   "source": [
    "year = 2014\n",
    "quarter = 1\n",
    "\n",
    "for idx in range(2, 3):\n",
    "    user, pwd = credentials[idx][0], credentials[idx][1]\n",
    "    accept_plan(year, quarter, user, pwd)"
   ]
  },
  {
   "cell_type": "code",
   "execution_count": null,
   "metadata": {},
   "outputs": [],
   "source": []
  }
 ],
 "metadata": {
  "kernelspec": {
   "display_name": "Python 3",
   "language": "python",
   "name": "python3"
  },
  "language_info": {
   "codemirror_mode": {
    "name": "ipython",
    "version": 3
   },
   "file_extension": ".py",
   "mimetype": "text/x-python",
   "name": "python",
   "nbconvert_exporter": "python",
   "pygments_lexer": "ipython3",
   "version": "3.10.7"
  },
  "orig_nbformat": 4
 },
 "nbformat": 4,
 "nbformat_minor": 2
}
