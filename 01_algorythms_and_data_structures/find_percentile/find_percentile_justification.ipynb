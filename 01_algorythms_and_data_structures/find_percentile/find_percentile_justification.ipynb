{
 "cells": [
  {
   "attachments": {},
   "cell_type": "markdown",
   "id": "ca48d06b-61a5-4402-8102-60d09c6321ff",
   "metadata": {},
   "source": [
    "<b>Solution justification</b>\n",
    "\n",
    "To perform the task we have applied the two-pointer algorithm and implemented two functions: <i>merge()</i> and <i>find_percentile()</i>.\n",
    "\n",
    "The time complexity of the <i>merge()</i> function is <i>O(n+m)</i>, where <i>n</i> is the length of array <i>a</i> and <i>m</i> is the length of array <i>b</i>. The function iterates through both arrays, comparing and appending the elements until both arrays have been fully traversed.\n",
    "\n",
    "The time complexity of <i>find_percentile()</i> is <i>O(1)</i> for finding the index of the <i>k</i>-th percentile as it involves only simple arithmetic calculations. The time complexity of returning the <i>k</i>-th element from the sorted merged array is <i>O(1)</i> since it involves a single indexing operation.\n",
    "\n",
    "Therefore, the overall time complexity of the solution is <i>O(n+m)</i>. \n",
    "\n",
    "---\n",
    "<br>Below is a code snippet for running random tests of increasing size and plotting the working time chart, which proves linear time complexity.</u>\n",
    "\n",
    "---\n",
    "The space complexity of the <i>merge()</i> function is <i>O(n+m)</i> as it creates a new list of length n+m to store the merged array. The space complexity of the <i>find_percentile()</i> function is <i>O(1)</i> as it only uses a few variables to store the intermediate results.\n",
    "\n",
    "Therefore, the overall space complexity of the solution is <i>O(n+m)</i>.\n",
    "\n",
    "If the input consisted of unsorted array(s) instead of sorted ones we would consider applying the merge sort algorithm, which has a time complexity of <i>O(n*log(n))</i> and space complexity on arrays of <i>O(n)</i>, where n is the total length of the input. https://www.cprogramming.com/tutorial/computersciencetheory/sortcomp.html"
   ]
  },
  {
   "cell_type": "code",
   "execution_count": 28,
   "id": "2caa8d1d-ba0f-4fec-9d25-51bba10d9dd7",
   "metadata": {},
   "outputs": [
    {
     "name": "stdout",
     "output_type": "stream",
     "text": [
      "100%\n",
      "CPU times: total: 2min 26s\n",
      "Wall time: 2min 28s\n"
     ]
    },
    {
     "data": {
      "image/png": "[encoded data removed]",
      "text/plain": [
       "<Figure size 432x288 with 1 Axes>"
      ]
     },
     "metadata": {
      "needs_background": "light"
     },
     "output_type": "display_data"
    }
   ],
   "source": [
    "%%time\n",
    "\n",
    "import matplotlib.pyplot as plt\n",
    "from time import time\n",
    "from random import randint\n",
    "from IPython.display import clear_output as clear\n",
    "\n",
    "def merge(a: list, b: list) -> list:\n",
    "    c = []\n",
    "    i = j = 0\n",
    "    while i < len(a) and j < len(b):\n",
    "        if a[i] < b[j]:\n",
    "            c.append(a[i])\n",
    "            i += 1\n",
    "        else:\n",
    "            c.append(b[j])\n",
    "            j += 1\n",
    "    c.extend(a[i:])\n",
    "    c.extend(b[j:])\n",
    "    return c\n",
    "\n",
    "\n",
    "def find_percentile(a: list, b: list, p: int) -> int:\n",
    "    c = merge(a, b)\n",
    "    k = int(-(-p*len(c) // 100)) - 1\n",
    "    return c[k]\n",
    "\n",
    "\n",
    "def get_random_test(test_size: int, right_border: int) -> list:\n",
    "    test = []\n",
    "    for i in range(test_size):\n",
    "        test.append(randint(0, right_border))\n",
    "    test.sort()\n",
    "    return test\n",
    "\n",
    "\n",
    "def run_and_plot(start=1, end=1000, bunch=100):\n",
    "    timings, progress_prev = [], 0\n",
    "    for i in range(start, end):\n",
    "        a = get_random_test(bunch*i, 100000000)\n",
    "        b = get_random_test(bunch*i, 100000000)\n",
    "        p = randint(1, 100)\n",
    "        start_time = time()\n",
    "        find_percentile(a, b, p)\n",
    "        end_time = time()\n",
    "        timings.append(end_time - start_time)\n",
    "        progress = round(i/(3*end-2*i)*100)\n",
    "        if progress > progress_prev:\n",
    "            clear()\n",
    "            print(f'{progress}%')\n",
    "            progress_prev = progress\n",
    "    plt.plot(timings)\n",
    "\n",
    "\n",
    "def main():\n",
    "    run_and_plot()\n",
    "\n",
    "\n",
    "if __name__ == \"__main__\":\n",
    "    main()\n"
   ]
  },
  {
   "cell_type": "code",
   "execution_count": null,
   "id": "806af192-b478-4935-82bd-381fc4fd518d",
   "metadata": {},
   "outputs": [],
   "source": []
  }
 ],
 "metadata": {
  "kernelspec": {
   "display_name": "Python 3 (ipykernel)",
   "language": "python",
   "name": "python3"
  },
  "language_info": {
   "codemirror_mode": {
    "name": "ipython",
    "version": 3
   },
   "file_extension": ".py",
   "mimetype": "text/x-python",
   "name": "python",
   "nbconvert_exporter": "python",
   "pygments_lexer": "ipython3",
   "version": "3.9.12"
  }
 },
 "nbformat": 4,
 "nbformat_minor": 5
}
